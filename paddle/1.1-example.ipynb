{
  "nbformat": 4,
  "nbformat_minor": 0,
  "metadata": {
    "accelerator": "GPU",
    "colab": {
      "name": "example.ipynb",
      "provenance": [],
      "collapsed_sections": [],
      "authorship_tag": "ABX9TyMsGw/9xCnSPgPR1vSp6Lhy",
      "include_colab_link": true
    },
    "kernelspec": {
      "display_name": "Python 3",
      "name": "python3"
    }
  },
  "cells": [
    {
      "cell_type": "markdown",
      "metadata": {
        "id": "view-in-github",
        "colab_type": "text"
      },
      "source": [
        "<a href=\"https://colab.research.google.com/github/xuexiaoao/colab/blob/main/paddle/1.1-example.ipynb\" target=\"_parent\"><img src=\"https://colab.research.google.com/assets/colab-badge.svg\" alt=\"Open In Colab\"/></a>"
      ]
    },
    {
      "cell_type": "markdown",
      "metadata": {
        "id": "jv5abz18tU5M"
      },
      "source": [
        "## 基础信息打印"
      ]
    },
    {
      "cell_type": "code",
      "metadata": {
        "colab": {
          "base_uri": "https://localhost:8080/",
          "height": 392
        },
        "id": "NATVjuwGg4VH",
        "outputId": "d5d6ac6e-9b11-4836-a3b0-e0924f65333a"
      },
      "source": [
        "# 显卡信息\n",
        "!nvidia-smi\n",
        "# CUDA 版本\n",
        "!cat /usr/local/cuda/version.txt\n",
        "# tensorflow版本\n",
        "import tensorflow as tf\n",
        "tf.__version__"
      ],
      "execution_count": 26,
      "outputs": [
        {
          "output_type": "stream",
          "text": [
            "Thu Jan 21 06:51:33 2021       \n",
            "+-----------------------------------------------------------------------------+\n",
            "| NVIDIA-SMI 460.32.03    Driver Version: 418.67       CUDA Version: 10.1     |\n",
            "|-------------------------------+----------------------+----------------------+\n",
            "| GPU  Name        Persistence-M| Bus-Id        Disp.A | Volatile Uncorr. ECC |\n",
            "| Fan  Temp  Perf  Pwr:Usage/Cap|         Memory-Usage | GPU-Util  Compute M. |\n",
            "|                               |                      |               MIG M. |\n",
            "|===============================+======================+======================|\n",
            "|   0  Tesla T4            Off  | 00000000:00:04.0 Off |                    0 |\n",
            "| N/A   71C    P0    32W /  70W |    831MiB / 15079MiB |      0%      Default |\n",
            "|                               |                      |                 ERR! |\n",
            "+-------------------------------+----------------------+----------------------+\n",
            "                                                                               \n",
            "+-----------------------------------------------------------------------------+\n",
            "| Processes:                                                                  |\n",
            "|  GPU   GI   CI        PID   Type   Process name                  GPU Memory |\n",
            "|        ID   ID                                                   Usage      |\n",
            "|=============================================================================|\n",
            "|  No running processes found                                                 |\n",
            "+-----------------------------------------------------------------------------+\n",
            "CUDA Version 10.1.243\n"
          ],
          "name": "stdout"
        },
        {
          "output_type": "execute_result",
          "data": {
            "application/vnd.google.colaboratory.intrinsic+json": {
              "type": "string"
            },
            "text/plain": [
              "'2.4.0'"
            ]
          },
          "metadata": {
            "tags": []
          },
          "execution_count": 26
        }
      ]
    },
    {
      "cell_type": "markdown",
      "metadata": {
        "id": "ONwTj04wtr8r"
      },
      "source": [
        "## 飞桨安装"
      ]
    },
    {
      "cell_type": "code",
      "metadata": {
        "colab": {
          "base_uri": "https://localhost:8080/"
        },
        "id": "PqQG32-GiU93",
        "outputId": "da423b5c-f566-40b6-8dc5-a3d495696421"
      },
      "source": [
        "!python -m pip install paddlepaddle-gpu==2.0.0rc1.post101 -f https://paddlepaddle.org.cn/whl/stable.html\n",
        "!pip install paddlehub==2.0.0rc0"
      ],
      "execution_count": 28,
      "outputs": [
        {
          "output_type": "stream",
          "text": [
            "Looking in links: https://paddlepaddle.org.cn/whl/stable.html\n",
            "Requirement already satisfied: paddlepaddle-gpu==2.0.0rc1.post101 in /usr/local/lib/python3.6/dist-packages (2.0.0rc1.post101)\n",
            "Requirement already satisfied: gast==0.3.3 in /usr/local/lib/python3.6/dist-packages (from paddlepaddle-gpu==2.0.0rc1.post101) (0.3.3)\n",
            "Requirement already satisfied: protobuf>=3.1.0 in /usr/local/lib/python3.6/dist-packages (from paddlepaddle-gpu==2.0.0rc1.post101) (3.12.4)\n",
            "Requirement already satisfied: numpy>=1.13; python_version >= \"3.5\" and platform_system != \"Windows\" in /usr/local/lib/python3.6/dist-packages (from paddlepaddle-gpu==2.0.0rc1.post101) (1.19.5)\n",
            "Requirement already satisfied: astor in /usr/local/lib/python3.6/dist-packages (from paddlepaddle-gpu==2.0.0rc1.post101) (0.8.1)\n",
            "Requirement already satisfied: Pillow in /usr/local/lib/python3.6/dist-packages (from paddlepaddle-gpu==2.0.0rc1.post101) (7.0.0)\n",
            "Requirement already satisfied: six in /usr/local/lib/python3.6/dist-packages (from paddlepaddle-gpu==2.0.0rc1.post101) (1.15.0)\n",
            "Requirement already satisfied: requests>=2.20.0 in /usr/local/lib/python3.6/dist-packages (from paddlepaddle-gpu==2.0.0rc1.post101) (2.23.0)\n",
            "Requirement already satisfied: decorator in /usr/local/lib/python3.6/dist-packages (from paddlepaddle-gpu==2.0.0rc1.post101) (4.4.2)\n",
            "Requirement already satisfied: setuptools in /usr/local/lib/python3.6/dist-packages (from protobuf>=3.1.0->paddlepaddle-gpu==2.0.0rc1.post101) (51.1.2)\n",
            "Requirement already satisfied: chardet<4,>=3.0.2 in /usr/local/lib/python3.6/dist-packages (from requests>=2.20.0->paddlepaddle-gpu==2.0.0rc1.post101) (3.0.4)\n",
            "Requirement already satisfied: idna<3,>=2.5 in /usr/local/lib/python3.6/dist-packages (from requests>=2.20.0->paddlepaddle-gpu==2.0.0rc1.post101) (2.10)\n",
            "Requirement already satisfied: certifi>=2017.4.17 in /usr/local/lib/python3.6/dist-packages (from requests>=2.20.0->paddlepaddle-gpu==2.0.0rc1.post101) (2020.12.5)\n",
            "Requirement already satisfied: urllib3!=1.25.0,!=1.25.1,<1.26,>=1.21.1 in /usr/local/lib/python3.6/dist-packages (from requests>=2.20.0->paddlepaddle-gpu==2.0.0rc1.post101) (1.24.3)\n",
            "Requirement already satisfied: paddlehub==2.0.0rc0 in /usr/local/lib/python3.6/dist-packages (2.0.0rc0)\n",
            "Requirement already satisfied: packaging in /usr/local/lib/python3.6/dist-packages (from paddlehub==2.0.0rc0) (20.8)\n",
            "Requirement already satisfied: rarfile in /usr/local/lib/python3.6/dist-packages (from paddlehub==2.0.0rc0) (4.0)\n",
            "Requirement already satisfied: colorama in /usr/local/lib/python3.6/dist-packages (from paddlehub==2.0.0rc0) (0.4.4)\n",
            "Requirement already satisfied: pyzmq in /usr/local/lib/python3.6/dist-packages (from paddlehub==2.0.0rc0) (20.0.0)\n",
            "Requirement already satisfied: paddlenlp>=2.0.0b2 in /usr/local/lib/python3.6/dist-packages (from paddlehub==2.0.0rc0) (2.0.0b3)\n",
            "Requirement already satisfied: gunicorn>=19.10.0; sys_platform != \"win32\" in /usr/local/lib/python3.6/dist-packages (from paddlehub==2.0.0rc0) (20.0.4)\n",
            "Requirement already satisfied: gitpython in /usr/local/lib/python3.6/dist-packages (from paddlehub==2.0.0rc0) (3.1.12)\n",
            "Requirement already satisfied: filelock in /usr/local/lib/python3.6/dist-packages (from paddlehub==2.0.0rc0) (3.0.12)\n",
            "Requirement already satisfied: flask>=1.1.0 in /usr/local/lib/python3.6/dist-packages (from paddlehub==2.0.0rc0) (1.1.2)\n",
            "Requirement already satisfied: Pillow in /usr/local/lib/python3.6/dist-packages (from paddlehub==2.0.0rc0) (7.0.0)\n",
            "Requirement already satisfied: opencv-python in /usr/local/lib/python3.6/dist-packages (from paddlehub==2.0.0rc0) (4.1.2.30)\n",
            "Requirement already satisfied: colorlog in /usr/local/lib/python3.6/dist-packages (from paddlehub==2.0.0rc0) (4.7.2)\n",
            "Requirement already satisfied: numpy in /usr/local/lib/python3.6/dist-packages (from paddlehub==2.0.0rc0) (1.19.5)\n",
            "Requirement already satisfied: pyyaml in /usr/local/lib/python3.6/dist-packages (from paddlehub==2.0.0rc0) (3.13)\n",
            "Requirement already satisfied: visualdl>=2.0.0 in /usr/local/lib/python3.6/dist-packages (from paddlehub==2.0.0rc0) (2.1.0)\n",
            "Requirement already satisfied: easydict in /usr/local/lib/python3.6/dist-packages (from paddlehub==2.0.0rc0) (1.9)\n",
            "Requirement already satisfied: matplotlib in /usr/local/lib/python3.6/dist-packages (from paddlehub==2.0.0rc0) (3.2.2)\n",
            "Requirement already satisfied: tqdm in /usr/local/lib/python3.6/dist-packages (from paddlehub==2.0.0rc0) (4.41.1)\n",
            "Requirement already satisfied: pyparsing>=2.0.2 in /usr/local/lib/python3.6/dist-packages (from packaging->paddlehub==2.0.0rc0) (2.4.7)\n",
            "Requirement already satisfied: seqeval in /usr/local/lib/python3.6/dist-packages (from paddlenlp>=2.0.0b2->paddlehub==2.0.0rc0) (1.2.2)\n",
            "Requirement already satisfied: h5py in /usr/local/lib/python3.6/dist-packages (from paddlenlp>=2.0.0b2->paddlehub==2.0.0rc0) (2.10.0)\n",
            "Requirement already satisfied: jieba in /usr/local/lib/python3.6/dist-packages (from paddlenlp>=2.0.0b2->paddlehub==2.0.0rc0) (0.42.1)\n",
            "Requirement already satisfied: setuptools>=3.0 in /usr/local/lib/python3.6/dist-packages (from gunicorn>=19.10.0; sys_platform != \"win32\"->paddlehub==2.0.0rc0) (51.1.2)\n",
            "Requirement already satisfied: gitdb<5,>=4.0.1 in /usr/local/lib/python3.6/dist-packages (from gitpython->paddlehub==2.0.0rc0) (4.0.5)\n",
            "Requirement already satisfied: Werkzeug>=0.15 in /usr/local/lib/python3.6/dist-packages (from flask>=1.1.0->paddlehub==2.0.0rc0) (1.0.1)\n",
            "Requirement already satisfied: Jinja2>=2.10.1 in /usr/local/lib/python3.6/dist-packages (from flask>=1.1.0->paddlehub==2.0.0rc0) (2.11.2)\n",
            "Requirement already satisfied: click>=5.1 in /usr/local/lib/python3.6/dist-packages (from flask>=1.1.0->paddlehub==2.0.0rc0) (7.1.2)\n",
            "Requirement already satisfied: itsdangerous>=0.24 in /usr/local/lib/python3.6/dist-packages (from flask>=1.1.0->paddlehub==2.0.0rc0) (1.1.0)\n",
            "Requirement already satisfied: Flask-Babel>=1.0.0 in /usr/local/lib/python3.6/dist-packages (from visualdl>=2.0.0->paddlehub==2.0.0rc0) (2.0.0)\n",
            "Requirement already satisfied: pre-commit in /usr/local/lib/python3.6/dist-packages (from visualdl>=2.0.0->paddlehub==2.0.0rc0) (2.9.3)\n",
            "Requirement already satisfied: bce-python-sdk in /usr/local/lib/python3.6/dist-packages (from visualdl>=2.0.0->paddlehub==2.0.0rc0) (0.8.53)\n",
            "Requirement already satisfied: protobuf>=3.11.0 in /usr/local/lib/python3.6/dist-packages (from visualdl>=2.0.0->paddlehub==2.0.0rc0) (3.12.4)\n",
            "Requirement already satisfied: requests in /usr/local/lib/python3.6/dist-packages (from visualdl>=2.0.0->paddlehub==2.0.0rc0) (2.23.0)\n",
            "Requirement already satisfied: flake8>=3.7.9 in /usr/local/lib/python3.6/dist-packages (from visualdl>=2.0.0->paddlehub==2.0.0rc0) (3.8.4)\n",
            "Requirement already satisfied: six>=1.14.0 in /usr/local/lib/python3.6/dist-packages (from visualdl>=2.0.0->paddlehub==2.0.0rc0) (1.15.0)\n",
            "Requirement already satisfied: python-dateutil>=2.1 in /usr/local/lib/python3.6/dist-packages (from matplotlib->paddlehub==2.0.0rc0) (2.8.1)\n",
            "Requirement already satisfied: cycler>=0.10 in /usr/local/lib/python3.6/dist-packages (from matplotlib->paddlehub==2.0.0rc0) (0.10.0)\n",
            "Requirement already satisfied: kiwisolver>=1.0.1 in /usr/local/lib/python3.6/dist-packages (from matplotlib->paddlehub==2.0.0rc0) (1.3.1)\n",
            "Requirement already satisfied: scikit-learn>=0.21.3 in /usr/local/lib/python3.6/dist-packages (from seqeval->paddlenlp>=2.0.0b2->paddlehub==2.0.0rc0) (0.22.2.post1)\n",
            "Requirement already satisfied: smmap<4,>=3.0.1 in /usr/local/lib/python3.6/dist-packages (from gitdb<5,>=4.0.1->gitpython->paddlehub==2.0.0rc0) (3.0.4)\n",
            "Requirement already satisfied: MarkupSafe>=0.23 in /usr/local/lib/python3.6/dist-packages (from Jinja2>=2.10.1->flask>=1.1.0->paddlehub==2.0.0rc0) (1.1.1)\n",
            "Requirement already satisfied: Babel>=2.3 in /usr/local/lib/python3.6/dist-packages (from Flask-Babel>=1.0.0->visualdl>=2.0.0->paddlehub==2.0.0rc0) (2.9.0)\n",
            "Requirement already satisfied: pytz in /usr/local/lib/python3.6/dist-packages (from Flask-Babel>=1.0.0->visualdl>=2.0.0->paddlehub==2.0.0rc0) (2018.9)\n",
            "Requirement already satisfied: identify>=1.0.0 in /usr/local/lib/python3.6/dist-packages (from pre-commit->visualdl>=2.0.0->paddlehub==2.0.0rc0) (1.5.13)\n",
            "Requirement already satisfied: cfgv>=2.0.0 in /usr/local/lib/python3.6/dist-packages (from pre-commit->visualdl>=2.0.0->paddlehub==2.0.0rc0) (3.2.0)\n",
            "Requirement already satisfied: importlib-metadata; python_version < \"3.8\" in /usr/local/lib/python3.6/dist-packages (from pre-commit->visualdl>=2.0.0->paddlehub==2.0.0rc0) (3.3.0)\n",
            "Requirement already satisfied: toml in /usr/local/lib/python3.6/dist-packages (from pre-commit->visualdl>=2.0.0->paddlehub==2.0.0rc0) (0.10.2)\n",
            "Requirement already satisfied: nodeenv>=0.11.1 in /usr/local/lib/python3.6/dist-packages (from pre-commit->visualdl>=2.0.0->paddlehub==2.0.0rc0) (1.5.0)\n",
            "Requirement already satisfied: importlib-resources; python_version < \"3.7\" in /usr/local/lib/python3.6/dist-packages (from pre-commit->visualdl>=2.0.0->paddlehub==2.0.0rc0) (4.1.1)\n",
            "Requirement already satisfied: virtualenv>=20.0.8 in /usr/local/lib/python3.6/dist-packages (from pre-commit->visualdl>=2.0.0->paddlehub==2.0.0rc0) (20.4.0)\n",
            "Requirement already satisfied: future>=0.6.0 in /usr/local/lib/python3.6/dist-packages (from bce-python-sdk->visualdl>=2.0.0->paddlehub==2.0.0rc0) (0.16.0)\n",
            "Requirement already satisfied: pycryptodome>=3.8.0 in /usr/local/lib/python3.6/dist-packages (from bce-python-sdk->visualdl>=2.0.0->paddlehub==2.0.0rc0) (3.9.9)\n",
            "Requirement already satisfied: urllib3!=1.25.0,!=1.25.1,<1.26,>=1.21.1 in /usr/local/lib/python3.6/dist-packages (from requests->visualdl>=2.0.0->paddlehub==2.0.0rc0) (1.24.3)\n",
            "Requirement already satisfied: idna<3,>=2.5 in /usr/local/lib/python3.6/dist-packages (from requests->visualdl>=2.0.0->paddlehub==2.0.0rc0) (2.10)\n",
            "Requirement already satisfied: certifi>=2017.4.17 in /usr/local/lib/python3.6/dist-packages (from requests->visualdl>=2.0.0->paddlehub==2.0.0rc0) (2020.12.5)\n",
            "Requirement already satisfied: chardet<4,>=3.0.2 in /usr/local/lib/python3.6/dist-packages (from requests->visualdl>=2.0.0->paddlehub==2.0.0rc0) (3.0.4)\n",
            "Requirement already satisfied: pyflakes<2.3.0,>=2.2.0 in /usr/local/lib/python3.6/dist-packages (from flake8>=3.7.9->visualdl>=2.0.0->paddlehub==2.0.0rc0) (2.2.0)\n",
            "Requirement already satisfied: mccabe<0.7.0,>=0.6.0 in /usr/local/lib/python3.6/dist-packages (from flake8>=3.7.9->visualdl>=2.0.0->paddlehub==2.0.0rc0) (0.6.1)\n",
            "Requirement already satisfied: pycodestyle<2.7.0,>=2.6.0a1 in /usr/local/lib/python3.6/dist-packages (from flake8>=3.7.9->visualdl>=2.0.0->paddlehub==2.0.0rc0) (2.6.0)\n",
            "Requirement already satisfied: joblib>=0.11 in /usr/local/lib/python3.6/dist-packages (from scikit-learn>=0.21.3->seqeval->paddlenlp>=2.0.0b2->paddlehub==2.0.0rc0) (1.0.0)\n",
            "Requirement already satisfied: scipy>=0.17.0 in /usr/local/lib/python3.6/dist-packages (from scikit-learn>=0.21.3->seqeval->paddlenlp>=2.0.0b2->paddlehub==2.0.0rc0) (1.4.1)\n",
            "Requirement already satisfied: zipp>=0.5 in /usr/local/lib/python3.6/dist-packages (from importlib-metadata; python_version < \"3.8\"->pre-commit->visualdl>=2.0.0->paddlehub==2.0.0rc0) (3.4.0)\n",
            "Requirement already satisfied: typing-extensions>=3.6.4; python_version < \"3.8\" in /usr/local/lib/python3.6/dist-packages (from importlib-metadata; python_version < \"3.8\"->pre-commit->visualdl>=2.0.0->paddlehub==2.0.0rc0) (3.7.4.3)\n",
            "Requirement already satisfied: appdirs<2,>=1.4.3 in /usr/local/lib/python3.6/dist-packages (from virtualenv>=20.0.8->pre-commit->visualdl>=2.0.0->paddlehub==2.0.0rc0) (1.4.4)\n",
            "Requirement already satisfied: distlib<1,>=0.3.1 in /usr/local/lib/python3.6/dist-packages (from virtualenv>=20.0.8->pre-commit->visualdl>=2.0.0->paddlehub==2.0.0rc0) (0.3.1)\n"
          ],
          "name": "stdout"
        }
      ]
    },
    {
      "cell_type": "code",
      "metadata": {
        "colab": {
          "base_uri": "https://localhost:8080/"
        },
        "id": "a3qHqGtMnJSS",
        "outputId": "d5ae4ebd-de2a-4623-9a4f-124d2b7f0907"
      },
      "source": [
        "# 验证飞桨是否安装成功\n",
        "import paddlehub\n",
        "paddlehub.server_check()"
      ],
      "execution_count": null,
      "outputs": [
        {
          "output_type": "stream",
          "text": [
            "\u001b[32m[2021-01-21 06:24:08,745] [    INFO]\u001b[0m - Request Hub-Server successfully.\u001b[0m\n"
          ],
          "name": "stderr"
        },
        {
          "output_type": "execute_result",
          "data": {
            "text/plain": [
              "True"
            ]
          },
          "metadata": {
            "tags": []
          },
          "execution_count": 11
        }
      ]
    },
    {
      "cell_type": "markdown",
      "metadata": {
        "id": "xXg333w9uQiP"
      },
      "source": [
        "## PaddleHub示例"
      ]
    },
    {
      "cell_type": "code",
      "metadata": {
        "id": "1rDS9nYinoCH"
      },
      "source": [
        "# 下载测试图片\n",
        "!wget https://paddlehub.bj.bcebos.com/resources/test_image.jpg"
      ],
      "execution_count": null,
      "outputs": []
    },
    {
      "cell_type": "markdown",
      "metadata": {
        "id": "4ABZvm_4ujdf"
      },
      "source": [
        "### 人像扣图"
      ]
    },
    {
      "cell_type": "code",
      "metadata": {
        "colab": {
          "base_uri": "https://localhost:8080/"
        },
        "id": "OqYt8Dj0oTGj",
        "outputId": "7e7a67b6-7207-4cee-b6ee-0696313eef73"
      },
      "source": [
        "# 安装预训练模型，需联网\n",
        "!hub install deeplabv3p_xception65_humanseg"
      ],
      "execution_count": null,
      "outputs": [
        {
          "output_type": "stream",
          "text": [
            "Download https://bj.bcebos.com/paddlehub/paddlehub_dev/deeplabv3p_xception65_humanseg_1.1.1.tar.gz\n",
            "[##################################################] 100.00%\n",
            "Decompress /root/.paddlehub/tmp/tmpjjb8j5bd/deeplabv3p_xception65_humanseg_1.1.1.tar.gz\n",
            "[##################################################] 100.00%\n",
            "\u001b[32m[2021-01-21 06:29:44,669] [    INFO]\u001b[0m - Successfully installed deeplabv3p_xception65_humanseg-1.1.1\u001b[0m\n"
          ],
          "name": "stdout"
        }
      ]
    },
    {
      "cell_type": "code",
      "metadata": {
        "colab": {
          "base_uri": "https://localhost:8080/"
        },
        "id": "jmhyKIrdpDb8",
        "outputId": "5cf0d38f-08fe-49cd-f9fc-6d8e884e6eb4"
      },
      "source": [
        "# 导入paddlehub库\n",
        "import paddlehub as hub\n",
        "# 指定模型名称、待预测的图片路径、输出结果的路径，执行并输出预测结果\n",
        "module = hub.Module(name=\"deeplabv3p_xception65_humanseg\")\n",
        "res = module.segmentation(paths = [\"./test_image.jpg\"], visualization=True, output_dir='humanseg_output')"
      ],
      "execution_count": null,
      "outputs": [
        {
          "output_type": "stream",
          "text": [
            "\u001b[33m[2021-01-21 06:31:54,065] [ WARNING]\u001b[0m - The _initialize method in HubModule will soon be deprecated, you can use the __init__() to handle the initialization of the object\u001b[0m\n"
          ],
          "name": "stderr"
        }
      ]
    },
    {
      "cell_type": "markdown",
      "metadata": {
        "id": "uOLpQK69uuE-"
      },
      "source": [
        "### 人体部位分割"
      ]
    },
    {
      "cell_type": "code",
      "metadata": {
        "colab": {
          "base_uri": "https://localhost:8080/"
        },
        "id": "M8LjVY5kqRxT",
        "outputId": "4b8ae7c1-08ff-4208-a254-0767af9422fe"
      },
      "source": [
        "# 安装预训练模型，需联网\n",
        "!hub install ace2p"
      ],
      "execution_count": null,
      "outputs": [
        {
          "output_type": "stream",
          "text": [
            "Download https://bj.bcebos.com/paddlehub/paddlehub_dev/ace2p_1.1.0.tar.gz\n",
            "[##################################################] 100.00%\n",
            "Decompress /root/.paddlehub/tmp/tmpfxzbqvc8/ace2p_1.1.0.tar.gz\n",
            "[##################################################] 100.00%\n",
            "\u001b[32m[2021-01-21 06:38:07,478] [    INFO]\u001b[0m - Successfully installed ace2p-1.1.0\u001b[0m\n"
          ],
          "name": "stdout"
        }
      ]
    },
    {
      "cell_type": "code",
      "metadata": {
        "colab": {
          "base_uri": "https://localhost:8080/"
        },
        "id": "OJFO_L2BqkLM",
        "outputId": "2b9a8f9f-7659-426b-d5db-d8bb0dac6295"
      },
      "source": [
        "# 导入paddlehub库\n",
        "import paddlehub as hub\n",
        "# 指定模型名称、待预测的图片路径、输出结果的路径，执行并输出预测结果\n",
        "module = hub.Module(name=\"ace2p\")\n",
        "res = module.segmentation(paths = [\"./test_image.jpg\"], visualization=True, output_dir='ace2p_output')"
      ],
      "execution_count": null,
      "outputs": [
        {
          "output_type": "stream",
          "text": [
            "\u001b[33m[2021-01-21 06:38:20,601] [ WARNING]\u001b[0m - The _initialize method in HubModule will soon be deprecated, you can use the __init__() to handle the initialization of the object\u001b[0m\n"
          ],
          "name": "stderr"
        }
      ]
    },
    {
      "cell_type": "markdown",
      "metadata": {
        "id": "VIhZQjoxu0hL"
      },
      "source": [
        "### 人脸检测"
      ]
    },
    {
      "cell_type": "code",
      "metadata": {
        "colab": {
          "base_uri": "https://localhost:8080/"
        },
        "id": "UPxhbCO0qvmW",
        "outputId": "b38e7784-7e09-400d-d8e3-51ebc3276272"
      },
      "source": [
        "# 安装预训练模型，需联网\n",
        "!hub install ultra_light_fast_generic_face_detector_1mb_640"
      ],
      "execution_count": null,
      "outputs": [
        {
          "output_type": "stream",
          "text": [
            "Download https://bj.bcebos.com/paddlehub/paddlehub_dev/ultra_light_fast_generic_face_detector_1mb_640_1.1.2.tar.gz\n",
            "[##################################################] 100.00%\n",
            "Decompress /root/.paddlehub/tmp/tmp7ztcpu3k/ultra_light_fast_generic_face_detector_1mb_640_1.1.2.tar.gz\n",
            "[##################################################] 100.00%\n",
            "\u001b[32m[2021-01-21 06:39:18,326] [    INFO]\u001b[0m - Successfully installed ultra_light_fast_generic_face_detector_1mb_640-1.1.2\u001b[0m\n"
          ],
          "name": "stdout"
        }
      ]
    },
    {
      "cell_type": "code",
      "metadata": {
        "colab": {
          "base_uri": "https://localhost:8080/"
        },
        "id": "aDxqq1ooq1cC",
        "outputId": "af965e07-01eb-4e0b-ba12-8cdbc7d88bc6"
      },
      "source": [
        "# 导入paddlehub库\n",
        "import paddlehub as hub\n",
        "# 指定模型名称、待预测的图片路径、输出结果的路径，执行并输出预测结果\n",
        "module = hub.Module(name=\"ultra_light_fast_generic_face_detector_1mb_640\")\n",
        "res = module.face_detection(paths = [\"./test_image.jpg\"], visualization=True, output_dir='face_detection_output')"
      ],
      "execution_count": null,
      "outputs": [
        {
          "output_type": "stream",
          "text": [
            "\u001b[33m[2021-01-21 06:39:30,033] [ WARNING]\u001b[0m - The _initialize method in HubModule will soon be deprecated, you can use the __init__() to handle the initialization of the object\u001b[0m\n"
          ],
          "name": "stderr"
        }
      ]
    },
    {
      "cell_type": "markdown",
      "metadata": {
        "id": "5oO7ox8xu6WL"
      },
      "source": [
        "### 关键点检测"
      ]
    },
    {
      "cell_type": "code",
      "metadata": {
        "colab": {
          "base_uri": "https://localhost:8080/"
        },
        "id": "S3HlMWnqq99N",
        "outputId": "64c61fd2-4d51-40f0-cc47-1b98fe5b7fa4"
      },
      "source": [
        "# 安装预训练模型，需联网\n",
        "!hub install human_pose_estimation_resnet50_mpii"
      ],
      "execution_count": null,
      "outputs": [
        {
          "output_type": "stream",
          "text": [
            "Download https://bj.bcebos.com/paddlehub/paddlehub_dev/human_pose_estimation_resnet50_mpii_1.1.1.tar.gz\n",
            "[##################################################] 100.00%\n",
            "Decompress /root/.paddlehub/tmp/tmpxw6lwfg4/human_pose_estimation_resnet50_mpii_1.1.1.tar.gz\n",
            "[##################################################] 100.00%\n",
            "\u001b[32m[2021-01-21 06:40:35,080] [    INFO]\u001b[0m - Successfully installed human_pose_estimation_resnet50_mpii-1.1.1\u001b[0m\n"
          ],
          "name": "stdout"
        }
      ]
    },
    {
      "cell_type": "code",
      "metadata": {
        "colab": {
          "base_uri": "https://localhost:8080/"
        },
        "id": "yRgs0b85rIbl",
        "outputId": "24e86f93-91a2-47cb-9963-12c0f3262fc3"
      },
      "source": [
        "# 导入paddlehub库\n",
        "import paddlehub as hub\n",
        "# 指定模型名称、待预测的图片路径、输出结果的路径，执行并输出预测结果\n",
        "module = hub.Module(name=\"human_pose_estimation_resnet50_mpii\")\n",
        "res = module.keypoint_detection(paths = [\"./test_image.jpg\"], visualization=True, output_dir='keypoint_output')"
      ],
      "execution_count": null,
      "outputs": [
        {
          "output_type": "stream",
          "text": [
            "\u001b[33m[2021-01-21 06:40:48,126] [ WARNING]\u001b[0m - The _initialize method in HubModule will soon be deprecated, you can use the __init__() to handle the initialization of the object\u001b[0m\n"
          ],
          "name": "stderr"
        },
        {
          "output_type": "stream",
          "text": [
            "image saved in keypoint_output/test_image.jpg\n"
          ],
          "name": "stdout"
        }
      ]
    },
    {
      "cell_type": "markdown",
      "metadata": {
        "id": "tbEhwP2CvLsm"
      },
      "source": [
        "### 中文分词"
      ]
    },
    {
      "cell_type": "code",
      "metadata": {
        "colab": {
          "base_uri": "https://localhost:8080/"
        },
        "id": "yJUZFOxFrU7h",
        "outputId": "a6b5a6f3-ce65-4147-fc05-fb6e21d65dce"
      },
      "source": [
        "# 安装预训练模型，需联网\n",
        "!hub install lac"
      ],
      "execution_count": null,
      "outputs": [
        {
          "output_type": "stream",
          "text": [
            "Download https://bj.bcebos.com/paddlehub/paddlehub_dev/lac_2.2.0.tar.gz\n",
            "[##################################################] 100.00%\n",
            "Decompress /root/.paddlehub/tmp/tmp3tdq8ud5/lac_2.2.0.tar.gz\n",
            "[##################################################] 100.00%\n",
            "\u001b[32m[2021-01-21 06:41:59,850] [    INFO]\u001b[0m - Successfully installed lac-2.2.0\u001b[0m\n"
          ],
          "name": "stdout"
        }
      ]
    },
    {
      "cell_type": "code",
      "metadata": {
        "colab": {
          "base_uri": "https://localhost:8080/"
        },
        "id": "5JLvAVaBrbuH",
        "outputId": "82ecc01b-7d23-4cc0-e1e6-9554b7efc8eb"
      },
      "source": [
        "# 导入paddlehub库\n",
        "import paddlehub as hub\n",
        "# 指定模型名称、待分词的文本，执行并输出预测结果\n",
        "lac = hub.Module(name=\"lac\")\n",
        "test_text = [\"1996年，曾经是微软员工的加布·纽维尔和麦克·哈灵顿一同创建了Valve软件公司。他们在1996年下半年从id software取得了雷神之锤引擎的使用许可，用来开发半条命系列。\"]\n",
        "res = lac.lexical_analysis(texts = test_text)\n",
        "# 打印预测结果\n",
        "print(\"中文词法分析结果：\", res)"
      ],
      "execution_count": null,
      "outputs": [
        {
          "output_type": "stream",
          "text": [
            "\u001b[33m[2021-01-21 06:42:07,360] [ WARNING]\u001b[0m - The _initialize method in HubModule will soon be deprecated, you can use the __init__() to handle the initialization of the object\u001b[0m\n"
          ],
          "name": "stderr"
        },
        {
          "output_type": "stream",
          "text": [
            "中文词法分析结果： [{'word': ['1996年', '，', '曾经', '是', '微软', '员工', '的', '加布·纽维尔', '和', '麦克·哈灵顿', '一同', '创建', '了', 'Valve软件公司', '。', '他们', '在', '1996年下半年', '从', 'id', ' ', 'software', '取得', '了', '雷神之锤', '引擎', '的', '使用', '许可', '，', '用来', '开发', '半条命', '系列', '。'], 'tag': ['TIME', 'w', 'd', 'v', 'ORG', 'n', 'u', 'PER', 'c', 'PER', 'd', 'v', 'u', 'ORG', 'w', 'r', 'p', 'TIME', 'p', 'nz', 'w', 'n', 'v', 'u', 'n', 'n', 'u', 'vn', 'vn', 'w', 'v', 'v', 'n', 'n', 'w']}]\n"
          ],
          "name": "stdout"
        }
      ]
    },
    {
      "cell_type": "markdown",
      "metadata": {
        "id": "l18zbVdlvU_4"
      },
      "source": [
        "### 情感分类"
      ]
    },
    {
      "cell_type": "code",
      "metadata": {
        "colab": {
          "base_uri": "https://localhost:8080/"
        },
        "id": "fGaemcq1rv2T",
        "outputId": "48296be7-4ecf-449b-b1ce-60255e71783d"
      },
      "source": [
        "# 安装预训练模型，需联网\n",
        "!hub install senta_bilstm"
      ],
      "execution_count": null,
      "outputs": [
        {
          "output_type": "stream",
          "text": [
            "Download https://bj.bcebos.com/paddlehub/paddlehub_dev/senta_bilstm_1.2.0.tar.gz\n",
            "[##################################################] 100.00%\n",
            "Decompress /root/.paddlehub/tmp/tmpx2gupjog/senta_bilstm_1.2.0.tar.gz\n",
            "[##################################################] 100.00%\n",
            "\u001b[32m[2021-01-21 06:45:06,588] [    INFO]\u001b[0m - Successfully installed senta_bilstm-1.2.0\u001b[0m\n"
          ],
          "name": "stdout"
        }
      ]
    },
    {
      "cell_type": "code",
      "metadata": {
        "colab": {
          "background_save": true
        },
        "id": "PxDqBRN7sLi7",
        "outputId": "45f94646-4bcb-4ac9-f8b5-c04c916ca781"
      },
      "source": [
        "import paddlehub as hub\n",
        "senta = hub.Module(name=\"senta_bilstm\")\n",
        "test_text = [\"味道不错，确实不算太辣，适合不能吃辣的人。就在长江边上，抬头就能看到长江的风景。鸭肠、黄鳝都比较新鲜。\"]\n",
        "res = senta.sentiment_classify(texts = test_text)\n",
        "\n",
        "print(\"情感分析结果：\", res)"
      ],
      "execution_count": null,
      "outputs": [
        {
          "output_type": "stream",
          "text": [
            "\u001b[33m[2021-01-21 06:46:01,673] [ WARNING]\u001b[0m - The _initialize method in HubModule will soon be deprecated, you can use the __init__() to handle the initialization of the object\u001b[0m\n",
            "\u001b[33m[2021-01-21 06:46:03,436] [ WARNING]\u001b[0m - The _initialize method in HubModule will soon be deprecated, you can use the __init__() to handle the initialization of the object\u001b[0m\n"
          ],
          "name": "stderr"
        },
        {
          "output_type": "stream",
          "text": [
            "情感分析结果： [{'text': '味道不错，确实不算太辣，适合不能吃辣的人。就在长江边上，抬头就能看到长江的风景。鸭肠、黄鳝都比较新鲜。', 'sentiment_label': 1, 'sentiment_key': 'positive', 'positive_probs': 0.9771, 'negative_probs': 0.0229}]\n"
          ],
          "name": "stdout"
        }
      ]
    }
  ]
}